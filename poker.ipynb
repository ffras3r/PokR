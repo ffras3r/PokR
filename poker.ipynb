{
 "cells": [
  {
   "cell_type": "code",
   "execution_count": 68,
   "metadata": {},
   "outputs": [],
   "source": [
    "import random"
   ]
  },
  {
   "cell_type": "code",
   "execution_count": 69,
   "metadata": {},
   "outputs": [],
   "source": [
    "result = [str(x * 100 + y) for x in range(1, 5) for y in range(1, 14)]\n",
    "cards = result"
   ]
  },
  {
   "cell_type": "code",
   "execution_count": 70,
   "metadata": {},
   "outputs": [],
   "source": [
    "def shuffle(deck):\n",
    "    random.shuffle(deck)\n",
    "    return deck"
   ]
  },
  {
   "cell_type": "code",
   "execution_count": 71,
   "metadata": {},
   "outputs": [],
   "source": [
    "class Player:\n",
    "    def __init__(self,number):\n",
    "        self.number = number\n",
    "    def card1(self,card):\n",
    "        self.card1=card\n",
    "    def card2(self,card):\n",
    "        self.card2=card"
   ]
  },
  {
   "cell_type": "code",
   "execution_count": 72,
   "metadata": {},
   "outputs": [],
   "source": [
    "s_deck = shuffle(cards)\n",
    "def deal(player_num:int ,deck:list):\n",
    "    players=[]\n",
    "    for i in range(1,player_num+1):\n",
    "        players.append(Player(i))\n",
    "    for i in range(player_num):\n",
    "        players[i].card1(deck.pop())\n",
    "    for i in range(player_num):\n",
    "        players[i].card2(deck.pop())\n",
    "    flipped_cards=[]\n",
    "    deck.pop()\n",
    "    for i in range(3):\n",
    "        flipped_cards.append(deck.pop())\n",
    "    deck.pop()\n",
    "    flipped_cards.append(deck.pop())\n",
    "    deck.pop()\n",
    "    flipped_cards.append(deck.pop())\n",
    "    return players,flipped_cards\n",
    "\n",
    "\n",
    "players,flip = deal(8,s_deck)\n"
   ]
  },
  {
   "cell_type": "code",
   "execution_count": 73,
   "metadata": {},
   "outputs": [],
   "source": [
    "hands_scoring ={'RF':1,'SF':2,'4K':3,'FH':4,'F':5,'S':6,'3K':7,'2P':8,'P':9,'H':10}"
   ]
  },
  {
   "cell_type": "code",
   "execution_count": 74,
   "metadata": {},
   "outputs": [
    {
     "data": {
      "text/plain": [
       "[{1: ['203', '404', '208', '407', '204', '410', '308']},\n",
       " {2: ['203', '404', '208', '407', '204', '302', '413']},\n",
       " {3: ['203', '404', '208', '407', '204', '210', '107']},\n",
       " {4: ['203', '404', '208', '407', '204', '211', '411']},\n",
       " {5: ['203', '404', '208', '407', '204', '113', '105']},\n",
       " {6: ['203', '404', '208', '407', '204', '412', '401']},\n",
       " {7: ['203', '404', '208', '407', '204', '311', '111']},\n",
       " {8: ['203', '404', '208', '407', '204', '206', '103']}]"
      ]
     },
     "execution_count": 74,
     "metadata": {},
     "output_type": "execute_result"
    }
   ],
   "source": [
    "def scoring(players,flip):\n",
    "    hands = []\n",
    "    for i in players:\n",
    "        hand = flip.copy()\n",
    "        hand.append(i.card1)\n",
    "        hand.append(i.card2)\n",
    "        hands.append({i.number:hand})\n",
    "    return hands\n",
    "scoring(players,flip)"
   ]
  }
 ],
 "metadata": {
  "kernelspec": {
   "display_name": "env",
   "language": "python",
   "name": "python3"
  },
  "language_info": {
   "codemirror_mode": {
    "name": "ipython",
    "version": 3
   },
   "file_extension": ".py",
   "mimetype": "text/x-python",
   "name": "python",
   "nbconvert_exporter": "python",
   "pygments_lexer": "ipython3",
   "version": "3.11.1"
  }
 },
 "nbformat": 4,
 "nbformat_minor": 2
}
